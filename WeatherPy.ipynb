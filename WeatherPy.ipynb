{
 "cells": [
  {
   "cell_type": "code",
   "execution_count": 38,
   "metadata": {},
   "outputs": [],
   "source": [
    "import json\n",
    "import requests\n",
    "import time as t\n",
    "import pandas as pd\n",
    "import matplotlib.pyplot as plt\n",
    "from citipy import citipy as c\n",
    "import random as r\n",
    "\n",
    "date = t.strftime(\"%d %b %Y\", t.gmtime())\n",
    "\n"
   ]
  },
  {
   "cell_type": "code",
   "execution_count": 39,
   "metadata": {},
   "outputs": [
    {
     "name": "stdout",
     "output_type": "stream",
     "text": [
      "1555538351.9874437\n",
      "1555538352.9947507\n"
     ]
    }
   ],
   "source": [
    "x = t.time()\n",
    "print(x)\n",
    "while t.time() < (x + 1):\n",
    "    t.sleep(.1)\n",
    "print(t.time())"
   ]
  },
  {
   "cell_type": "code",
   "execution_count": 54,
   "metadata": {},
   "outputs": [
    {
     "name": "stdout",
     "output_type": "stream",
     "text": [
      "25.502257429768306 123.68093978151566\n",
      "ishigaki jp\n",
      "81.50539370031834 -161.4688926481841\n",
      "barrow us\n",
      "56.82842497733935 59.036487381412535\n",
      "bisert ru\n",
      "59.86497733460496 -149.29835357875993\n",
      "anchorage us\n",
      "-7.71467242343435 -104.48887446168773\n",
      "puerto ayora ec\n",
      "47.69373062361269 142.50300790407803\n",
      "vzmorye ru\n",
      "-12.360565377027173 8.507292762758052\n",
      "namibe ao\n",
      "50.10201811679755 8.838450954812277\n",
      "muhlheim de\n",
      "-17.062902609531502 -155.34843665463623\n",
      "vaitape pf\n",
      "24.63093508093239 -143.71191082603494\n",
      "hilo us\n",
      "65.48651109450579 104.02542162241262\n",
      "tura ru\n",
      "65.27798655226333 -153.0572374636855\n",
      "kenai us\n",
      "63.58823948640949 -40.86662045259476\n",
      "tasiilaq gl\n",
      "-69.55267774895333 144.9069639954504\n",
      "hobart au\n",
      "82.71677631015321 -60.14965439147449\n",
      "narsaq gl\n",
      "-58.74944731573062 -31.697863181789625\n",
      "mar del plata ar\n",
      "66.62060737291803 162.5662366047508\n",
      "cherskiy ru\n",
      "39.59427008515032 -133.83016293991753\n",
      "fortuna us\n",
      "89.19002803222523 163.44012809571805\n",
      "cherskiy ru\n",
      "73.50018711949149 137.76047207692037\n",
      "nizhneyansk ru\n"
     ]
    }
   ],
   "source": [
    "for i in range(20):\n",
    "    lat = r.uniform(-1, 1) * 90\n",
    "    lng = r.uniform(-1, 1) * 180\n",
    "    a = c.nearest_city(lat, lng)\n",
    "    print(lat, lng)\n",
    "    print(a.city_name, a.country_code)"
   ]
  },
  {
   "cell_type": "code",
   "execution_count": null,
   "metadata": {},
   "outputs": [],
   "source": []
  }
 ],
 "metadata": {
  "kernelspec": {
   "display_name": "Python 3",
   "language": "python",
   "name": "python3"
  },
  "language_info": {
   "codemirror_mode": {
    "name": "ipython",
    "version": 3
   },
   "file_extension": ".py",
   "mimetype": "text/x-python",
   "name": "python",
   "nbconvert_exporter": "python",
   "pygments_lexer": "ipython3",
   "version": "3.7.1"
  }
 },
 "nbformat": 4,
 "nbformat_minor": 2
}
