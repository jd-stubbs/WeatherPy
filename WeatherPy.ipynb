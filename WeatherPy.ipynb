{
 "cells": [
  {
   "cell_type": "code",
   "execution_count": null,
   "metadata": {},
   "outputs": [],
   "source": [
    "from config import api_key\n",
    "import requests\n",
    "import time as t\n",
    "import pandas as pd\n",
    "import matplotlib.pyplot as plt\n",
    "from citipy import citipy as c\n",
    "import random as r\n",
    "\n",
    "date = t.strftime(\"%d %b %Y\", t.gmtime())\n",
    "url = \"http://api.openweathermap.org/data/2.5/weather?\"\n",
    "units = \"imperial\"\n",
    "\n",
    "base_url = f\"{url}appid={api_key}&units={units}&q=\""
   ]
  },
  {
   "cell_type": "code",
   "execution_count": null,
   "metadata": {},
   "outputs": [],
   "source": [
    "cities = []\n",
    "countries = []\n",
    "for i in range(2500):\n",
    "    lat = r.uniform(-90, 90)\n",
    "    lng = r.uniform(-180, 180)\n",
    "    a = c.nearest_city(lat, lng)\n",
    "    cities.append(a.city_name)\n",
    "    countries.append(a.country_code)\n",
    "\n",
    "cities_df = pd.DataFrame({\"city\": cities, \"country\": countries,\n",
    "                          \"latitude\": \"\", \"temp\": \"\", \"humidity\": \"\",\n",
    "                          \"clouds\": \"\", \"winds\": \"\"})\n",
    "cities_df.drop_duplicates(subset='city', inplace=True)\n",
    "print(cities_df['city'].count())\n",
    "cities_df.head()"
   ]
  },
  {
   "cell_type": "code",
   "execution_count": null,
   "metadata": {},
   "outputs": [],
   "source": [
    "for i, row in cities_df.iterrows():\n",
    "    query_url = f\"{base_url}{row['city']},{row['country']}\"\n",
    "    \n",
    "    print(f\"Retrieving data for city {i}...{row['city']}, {row['country']}\")\n",
    "    \n",
    "    x = t.time()\n",
    "\n",
    "    request = requests.get(query_url).json()\n",
    "    \n",
    "    try:\n",
    "        cities_df.loc[i, 'latitude'] = request['coord']['lat'] # latitude\n",
    "        cities_df.loc[i, 'temp'] = request['main']['temp_max'] # temperature F\n",
    "        cities_df.loc[i, 'humidity'] = request['main']['humidity'] # humidity %\n",
    "        cities_df.loc[i, 'clouds'] = request['clouds']['all'] # cloudiness %\n",
    "        cities_df.loc[i, 'winds'] = request['wind']['speed'] # wind speed kts\n",
    "    except (KeyError, IndexError):\n",
    "        print(\"Missing field/result... skipping.\")\n",
    "        cities_df.drop(i, inplace=True)\n",
    "          \n",
    "    while t.time() < (x + 1):\n",
    "          t.sleep(.1)\n",
    "          \n",
    "cities_df.reset_index(drop=True, inplace=True)"
   ]
  },
  {
   "cell_type": "code",
   "execution_count": null,
   "metadata": {},
   "outputs": [],
   "source": [
    "cities_df.head()"
   ]
  },
  {
   "cell_type": "code",
   "execution_count": null,
   "metadata": {},
   "outputs": [],
   "source": [
    "fig, ax = plt.subplots(figsize=(8, 5))\n",
    "\n",
    "xmin = int((cities_df['temp'].min() // 5) * 5)\n",
    "xmax = int((cities_df['temp'].max() // 5) * 5 + 5)\n",
    "xrange = range(xmin, xmax + 5, 5)\n",
    "\n",
    "ax.scatter(cities_df['temp'], cities_df['latitude'], c='g', alpha=0.5, label='City')\n",
    "ax.plot(xrange, [0] * len(xrange), 'r-', label='Equator')\n",
    "ax.plot(xrange, [23.43678] * len(xrange), 'b:', label='Tropics')\n",
    "ax.plot(xrange, [-23.43678] * len(xrange), 'b:')\n",
    "\n",
    "plt.xticks(xrange)\n",
    "plt.xlim(xrange[0], xrange[-1])\n",
    "plt.legend()\n",
    "plt.grid(True)\n",
    "plt.title(f\"City Latitude vs Max Temperature ({date})\", fontsize=18)\n",
    "plt.ylabel(\"Latitude\", fontsize=14)\n",
    "plt.xlabel(\"Max Temperature (F)\", fontsize=14)\n",
    "plt.savefig(f\"Output/TemperatureInWorldCities_{date}.png\")\n",
    "plt.show()"
   ]
  },
  {
   "cell_type": "code",
   "execution_count": null,
   "metadata": {},
   "outputs": [],
   "source": [
    "fig, ax = plt.subplots(figsize=(8, 5))\n",
    "\n",
    "xmin = int((cities_df['humidity'].min() // 5) * 5)\n",
    "xmax = int((cities_df['humidity'].max() // 5) * 5 + 5)\n",
    "xrange = range(xmin, xmax + 5, 5)\n",
    "\n",
    "ax.scatter(cities_df['humidity'], cities_df['latitude'], c='g', alpha=0.5, label='City')\n",
    "ax.plot(xrange, [0] * len(xrange), 'r-', label='Equator')\n",
    "ax.plot(xrange, [23.43678] * len(xrange), 'b:', label='Tropics')\n",
    "ax.plot(xrange, [-23.43678] * len(xrange), 'b:')\n",
    "\n",
    "plt.xticks(xrange)\n",
    "plt.xlim(xrange[0], xrange[-1])\n",
    "plt.legend()\n",
    "plt.grid(True)\n",
    "plt.title(f\"City Latitude vs Humidity ({date})\", fontsize=18)\n",
    "plt.ylabel(\"Latitude\", fontsize=14)\n",
    "plt.xlabel(\"Humidity (%)\", fontsize=14)\n",
    "plt.savefig(f\"Output/HumidityInWorldCities_{date}.png\")\n",
    "plt.show()"
   ]
  },
  {
   "cell_type": "code",
   "execution_count": null,
   "metadata": {},
   "outputs": [],
   "source": [
    "fig, ax = plt.subplots(figsize=(8, 5))\n",
    "\n",
    "xmin = int((cities_df['clouds'].min() // 5) * 5)\n",
    "xmax = int((cities_df['clouds'].max() // 5) * 5 + 5)\n",
    "xrange = range(xmin, xmax + 5, 5)\n",
    "\n",
    "ax.scatter(cities_df['clouds'], cities_df['latitude'], c='g', alpha=0.5, label='City')\n",
    "ax.plot(xrange, [0] * len(xrange), 'r-', label='Equator')\n",
    "ax.plot(xrange, [23.43678] * len(xrange), 'b:', label='Tropics')\n",
    "ax.plot(xrange, [-23.43678] * len(xrange), 'b:')\n",
    "\n",
    "plt.xticks(xrange)\n",
    "plt.xlim(xrange[0], xrange[-1])\n",
    "plt.legend()\n",
    "plt.grid(True)\n",
    "plt.title(f\"City Latitude vs Cloud Coverage ({date})\", fontsize=18)\n",
    "plt.ylabel(\"Latitude\", fontsize=14)\n",
    "plt.xlabel(\"Cloud Coverage (%)\", fontsize=14)\n",
    "plt.savefig(f\"Output/CloudsInWorldCities_{date}.png\")\n",
    "plt.show()"
   ]
  },
  {
   "cell_type": "code",
   "execution_count": null,
   "metadata": {},
   "outputs": [],
   "source": [
    "fig, ax = plt.subplots(figsize=(8, 5))\n",
    "\n",
    "xmin = int((cities_df['winds'].min() // 5) * 5)\n",
    "xmax = int((cities_df['winds'].max() // 5) * 5 + 5)\n",
    "xrange = range(xmin, xmax + 5, 5)\n",
    "\n",
    "ax.scatter(cities_df['winds'], cities_df['latitude'], c='g', alpha=0.5, label='City')\n",
    "ax.plot(xrange, [0] * len(xrange), 'r-', label='Equator')\n",
    "ax.plot(xrange, [23.43678] * len(xrange), 'b:', label='Tropics')\n",
    "ax.plot(xrange, [-23.43678] * len(xrange), 'b:')\n",
    "\n",
    "plt.xticks(xrange)\n",
    "plt.xlim(xrange[0], xrange[-1])\n",
    "plt.legend()\n",
    "plt.grid(True)\n",
    "plt.title(f\"City Latitude vs Wind Speed ({date})\", fontsize=18)\n",
    "plt.ylabel(\"Latitude\", fontsize=14)\n",
    "plt.xlabel(\"Wind Speed (kts)\", fontsize=14)\n",
    "plt.savefig(f\"Output/WindsInWorldCities_{date}.png\")\n",
    "plt.show()"
   ]
  },
  {
   "cell_type": "code",
   "execution_count": null,
   "metadata": {},
   "outputs": [],
   "source": [
    "cities_df.to_csv(path_or_buf='Output/Cities.csv', index=False)"
   ]
  },
  {
   "cell_type": "code",
   "execution_count": null,
   "metadata": {},
   "outputs": [],
   "source": []
  }
 ],
 "metadata": {
  "kernelspec": {
   "display_name": "Python 3",
   "language": "python",
   "name": "python3"
  },
  "language_info": {
   "codemirror_mode": {
    "name": "ipython",
    "version": 3
   },
   "file_extension": ".py",
   "mimetype": "text/x-python",
   "name": "python",
   "nbconvert_exporter": "python",
   "pygments_lexer": "ipython3",
   "version": "3.7.1"
  }
 },
 "nbformat": 4,
 "nbformat_minor": 2
}
